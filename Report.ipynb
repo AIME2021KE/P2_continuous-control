{
 "cells": [
  {
   "cell_type": "markdown",
   "metadata": {},
   "source": [
    "# Continuous Control -- REPORT\n",
    "\n",
    "---\n",
    "\n",
    "In this notebook, you will learn how to use the Unity ML-Agents environment for the second project of the [Deep Reinforcement Learning Nanodegree](https://www.udacity.com/course/deep-reinforcement-learning-nanodegree--nd893) program.\n",
    "\n",
    "### 1. Start the Environment\n",
    "\n",
    "We begin by importing the necessary packages.  If the code cell below returns an error, please revisit the project instructions to double-check that you have installed [Unity ML-Agents](https://github.com/Unity-Technologies/ml-agents/blob/master/docs/Installation.md) and [NumPy](http://www.numpy.org/)."
   ]
  },
  {
   "cell_type": "markdown",
   "metadata": {},
   "source": [
    "# Warning!!! Always Restart and Clear Output before rerunning. Get Weird Errors otherwise as noted below...."
   ]
  },
  {
   "cell_type": "code",
   "execution_count": 1,
   "metadata": {},
   "outputs": [],
   "source": [
    "from unityagents import UnityEnvironment\n",
    "import numpy as np"
   ]
  },
  {
   "cell_type": "code",
   "execution_count": 2,
   "metadata": {},
   "outputs": [],
   "source": [
    "# KAE 3/19/2022: normally provided later in the script, but need \n",
    "#  torch for the check of the GPU, so put up at the top \n",
    "from collections import deque\n",
    "import matplotlib.pyplot as plt\n",
    "%matplotlib inline\n",
    "import random\n",
    "import torch"
   ]
  },
  {
   "cell_type": "markdown",
   "metadata": {},
   "source": [
    "Next, we will start the environment!  **_Before running the code cell below_**, change the `file_name` parameter to match the location of the Unity environment that you downloaded.\n",
    "\n",
    "- **Mac**: `\"path/to/Reacher.app\"`\n",
    "- **Windows** (x86): `\"path/to/Reacher_Windows_x86/Reacher.exe\"`\n",
    "- **Windows** (x86_64): `\"path/to/Reacher_Windows_x86_64/Reacher.exe\"`\n",
    "- **Linux** (x86): `\"path/to/Reacher_Linux/Reacher.x86\"`\n",
    "- **Linux** (x86_64): `\"path/to/Reacher_Linux/Reacher.x86_64\"`\n",
    "- **Linux** (x86, headless): `\"path/to/Reacher_Linux_NoVis/Reacher.x86\"`\n",
    "- **Linux** (x86_64, headless): `\"path/to/Reacher_Linux_NoVis/Reacher.x86_64\"`\n",
    "\n",
    "For instance, if you are using a Mac, then you downloaded `Reacher.app`.  If this file is in the same folder as the notebook, then the line below should appear as follows:\n",
    "```\n",
    "env = UnityEnvironment(file_name=\"Reacher.app\")\n",
    "```"
   ]
  },
  {
   "cell_type": "markdown",
   "metadata": {},
   "source": [
    "# NOTE: you need to click on the Unity popup in order to function!!!"
   ]
  },
  {
   "cell_type": "code",
   "execution_count": 3,
   "metadata": {},
   "outputs": [
    {
     "name": "stderr",
     "output_type": "stream",
     "text": [
      "INFO:unityagents:\n",
      "'Academy' started successfully!\n",
      "Unity Academy name: Academy\n",
      "        Number of Brains: 1\n",
      "        Number of External Brains : 1\n",
      "        Lesson number : 0\n",
      "        Reset Parameters :\n",
      "\t\tgoal_speed -> 1.0\n",
      "\t\tgoal_size -> 5.0\n",
      "Unity brain name: ReacherBrain\n",
      "        Number of Visual Observations (per agent): 0\n",
      "        Vector Observation space type: continuous\n",
      "        Vector Observation space size (per agent): 33\n",
      "        Number of stacked Vector Observation: 1\n",
      "        Vector Action space type: continuous\n",
      "        Vector Action space size (per agent): 4\n",
      "        Vector Action descriptions: , , , \n"
     ]
    }
   ],
   "source": [
    "# KAE: windows-specific environment specification\n",
    "env = UnityEnvironment(file_name='.\\Reacher.exe')\n",
    "#env = UnityEnvironment(file_name='.\\Reacher_Windows_x86_64\\Reacher.exe')\n"
   ]
  },
  {
   "cell_type": "markdown",
   "metadata": {},
   "source": [
    "Environments contain **_brains_** which are responsible for deciding the actions of their associated agents. Here we check for the first brain available, and set it as the default brain we will be controlling from Python."
   ]
  },
  {
   "cell_type": "code",
   "execution_count": 4,
   "metadata": {},
   "outputs": [],
   "source": [
    "# get the default brain\n",
    "brain_name = env.brain_names[0]\n",
    "brain = env.brains[brain_name]"
   ]
  },
  {
   "cell_type": "markdown",
   "metadata": {},
   "source": [
    "### 2. Examine the State and Action Spaces\n",
    "\n",
    "In this environment, a double-jointed arm can move to target locations. A reward of `+0.1` is provided for each step that the agent's hand is in the goal location. Thus, the goal of your agent is to maintain its position at the target location for as many time steps as possible.\n",
    "\n",
    "The observation space consists of `33` variables corresponding to position, rotation, velocity, and angular velocities of the arm.  Each action is a vector with four numbers, corresponding to torque applicable to two joints.  Every entry in the action vector must be a number between `-1` and `1`.\n",
    "\n",
    "Run the code cell below to print some information about the environment."
   ]
  },
  {
   "cell_type": "code",
   "execution_count": 5,
   "metadata": {},
   "outputs": [
    {
     "name": "stdout",
     "output_type": "stream",
     "text": [
      "Number of agents: 20\n",
      "Size of each action: 4\n",
      "There are 20 agents. Each observes a state with length: 33\n",
      "The state for the first agent looks like: [ 0.00000000e+00 -4.00000000e+00  0.00000000e+00  1.00000000e+00\n",
      " -0.00000000e+00 -0.00000000e+00 -4.37113883e-08  0.00000000e+00\n",
      "  0.00000000e+00  0.00000000e+00  0.00000000e+00  0.00000000e+00\n",
      "  0.00000000e+00  0.00000000e+00 -1.00000000e+01  0.00000000e+00\n",
      "  1.00000000e+00 -0.00000000e+00 -0.00000000e+00 -4.37113883e-08\n",
      "  0.00000000e+00  0.00000000e+00  0.00000000e+00  0.00000000e+00\n",
      "  0.00000000e+00  0.00000000e+00  5.75471878e+00 -1.00000000e+00\n",
      "  5.55726624e+00  0.00000000e+00  1.00000000e+00  0.00000000e+00\n",
      " -1.68164849e-01]\n"
     ]
    }
   ],
   "source": [
    "# reset the environment for training\n",
    "env_info = env.reset(train_mode=True)[brain_name]\n",
    "\n",
    "# number of agents\n",
    "num_agents = len(env_info.agents)\n",
    "print('Number of agents:', num_agents)\n",
    "\n",
    "# size of each action\n",
    "action_size = brain.vector_action_space_size\n",
    "print('Size of each action:', action_size)\n",
    "\n",
    "# examine the state space \n",
    "states = env_info.vector_observations\n",
    "state_size = states.shape[1]\n",
    "print('There are {} agents. Each observes a state with length: {}'.format(states.shape[0], state_size))\n",
    "print('The state for the first agent looks like:', states[0])"
   ]
  },
  {
   "cell_type": "code",
   "execution_count": 6,
   "metadata": {},
   "outputs": [
    {
     "data": {
      "text/plain": [
       "True"
      ]
     },
     "execution_count": 6,
     "metadata": {},
     "output_type": "execute_result"
    }
   ],
   "source": [
    " torch.cuda.is_available ()"
   ]
  },
  {
   "cell_type": "markdown",
   "metadata": {},
   "source": [
    "### 3. Take Random Actions in the Environment\n",
    "\n",
    "In the next code cell, you will learn how to use the Python API to control the agent and receive feedback from the environment.\n",
    "\n",
    "Once this cell is executed, you will watch the agent's performance, if it selects an action at random with each time step.  A window should pop up that allows you to observe the agent, as it moves through the environment.  \n",
    "\n",
    "Of course, as part of the project, you'll have to change the code so that the agent is able to use its experience to gradually choose better actions when interacting with the environment!"
   ]
  },
  {
   "cell_type": "markdown",
   "metadata": {},
   "source": [
    "### NOTE: Next section is the provided \"training\" environment of random selections"
   ]
  },
  {
   "cell_type": "code",
   "execution_count": 7,
   "metadata": {},
   "outputs": [],
   "source": [
    "#env_info = env.reset(train_mode=False)[brain_name]     # reset the environment    \n",
    "#states = env_info.vector_observations                  # get the current state (for each agent)\n",
    "#scores = np.zeros(num_agents)                          # initialize the score (for each agent)\n",
    "#while True:\n",
    "#    actions = np.random.randn(num_agents, action_size) # select an action (for each agent)\n",
    "#    actions = np.clip(actions, -1, 1)                  # all actions between -1 and 1\n",
    "#    env_info = env.step(actions)[brain_name]           # send all actions to tne environment\n",
    "#    next_states = env_info.vector_observations         # get next state (for each agent)\n",
    "#    rewards = env_info.rewards                         # get reward (for each agent)\n",
    "#    dones = env_info.local_done                        # see if episode finished\n",
    "#    scores += env_info.rewards                         # update the score (for each agent)\n",
    "#    states = next_states                               # roll over states to next time step\n",
    "#    if np.any(dones):                                  # exit loop if episode finished\n",
    "#        break\n",
    "#print('Total score (averaged over agents) this episode: {}'.format(np.mean(scores)))"
   ]
  },
  {
   "cell_type": "markdown",
   "metadata": {},
   "source": [
    "When finished, you can close the environment."
   ]
  },
  {
   "cell_type": "code",
   "execution_count": 8,
   "metadata": {},
   "outputs": [],
   "source": [
    "#env.close()"
   ]
  },
  {
   "cell_type": "markdown",
   "metadata": {},
   "source": [
    "### 4. It's Your Turn!\n",
    "\n",
    "Now it's your turn to train your own agent to solve the environment!  When training the environment, set `train_mode=True`, so that the line for resetting the environment looks like the following:\n",
    "```python\n",
    "env_info = env.reset(train_mode=True)[brain_name]\n",
    "```"
   ]
  },
  {
   "cell_type": "code",
   "execution_count": 9,
   "metadata": {},
   "outputs": [],
   "source": [
    "env_info = env.reset(train_mode=True)[brain_name]     # reset the environment    \n"
   ]
  },
  {
   "cell_type": "code",
   "execution_count": 10,
   "metadata": {},
   "outputs": [
    {
     "data": {
      "text/plain": [
       "20"
      ]
     },
     "execution_count": 10,
     "metadata": {},
     "output_type": "execute_result"
    }
   ],
   "source": [
    "len(states)"
   ]
  },
  {
   "cell_type": "markdown",
   "metadata": {},
   "source": [
    "### As noted above if you don't restart and clear output before rerunning you will get strange errors, issues in the below section of code\n",
    "Weird and stupid errors here -- even if I replace the stupid_Agent.py file with EXAMPLE_Agent.py file and then import stupid_Agent it bombs, also putting my code into EXAMPLE_Agent.py; don't know why this is a problem\n",
    "EXAMPLE ATTEMPS:\n",
    "#from EXAMPLE_Agent import Agent\n",
    "#from EXAMPLE_Agent_orig import Agent\n",
    "#from stupid_Agent import Agent\n",
    "#from MYAgent import Agent\n",
    "\n",
    "FOUND PROBLEM: need to always restart and clear output before each attempt!\n",
    "\n"
   ]
  },
  {
   "cell_type": "code",
   "execution_count": 11,
   "metadata": {},
   "outputs": [],
   "source": [
    "\n",
    "from ddpg_agent import Agent\n"
   ]
  },
  {
   "cell_type": "code",
   "execution_count": 12,
   "metadata": {},
   "outputs": [],
   "source": [
    "agent = Agent(state_size = state_size, action_size = action_size, \n",
    "              num_agents = num_agents, random_seed=2)"
   ]
  },
  {
   "cell_type": "code",
   "execution_count": 13,
   "metadata": {},
   "outputs": [],
   "source": [
    "# KAE 3/18/2022: this initial function is missing a number of \n",
    "#  possible desirable features:\n",
    "# 1) N-step sampling \n",
    "# 2) clipped gradient (in ddpg_agent)\n",
    "# 3) wait c steps before updating the actor and critic networks\n",
    "\n",
    "# HOWEVER, they were not found to be needed\n",
    "\n",
    "# KAE 3/18/2022: trying to avoid global variables used in functions :(\n",
    "#   so passing in env_info, brain_name, agent (from above)\n",
    "def ddpg_train(env, brain_name, agent, n_agents=1, n_episodes=1000, print_every=100, moving_avg=100):\n",
    "    # KAE this is useful previously to provide a 'last moving_avg' sample for the moving average\n",
    "    nscores_deque = deque(maxlen=moving_avg)\n",
    "    nscores = []\n",
    "    nmean_scores = []\n",
    "    nbest_mean = -100\n",
    "    # KAE 3/19/2022: 1st time through we got learning score >36 but \n",
    "    #  reloading gave us a mean of 34, so allow for 10% over\n",
    "    MAX_SCORE = 33.0\n",
    "    # KAE 3/19/2022: print the requirement score as well\n",
    "    REQ_SCORE = 30.0\n",
    "    for i_episode in range(1, n_episodes+1):\n",
    "        # KAE NOTE: original DDPG had just env.reset() but that \n",
    "        #   didn't work, so included [brain_name]\n",
    "        env_info = env.reset()[brain_name]\n",
    "        states = env_info.vector_observations\n",
    "        agent.reset()\n",
    "        score = np.zeros(n_agents)\n",
    "        mean_score = 0\n",
    "        while True:\n",
    "            # we were dying here when not restart, clear ....\n",
    "            actions = agent.act(states)\n",
    "            env_info = env.step(actions)[brain_name]           # send all actions to the environment\n",
    "            next_states = env_info.vector_observations         # get next state (for each agent)\n",
    "            rewards = env_info.rewards                         # get reward (for each agent)\n",
    "            dones = env_info.local_done                        # see if episode finished\n",
    "            # key added command for training to save etc the current step for training\n",
    "            agent.step(states, actions, rewards, next_states, dones)\n",
    "            states = next_states\n",
    "            score += rewards                                  # update the score (for each agent)\n",
    "            if np.any(dones):\n",
    "                break \n",
    "        nscores_deque.append(score)\n",
    "        nscores.append(score)\n",
    "        mean_score = np.mean(nscores_deque)\n",
    "        # this gives us the mean score 100 sample mean score for plotting\n",
    "        nmean_scores.append(mean_score)\n",
    "        # THis line remains in place, from the DDPG previous example....\n",
    "        print('\\rEpisode {}\\tAverage Score: {:.2f}'.format(i_episode, mean_score), end=\"\")\n",
    "        # only save the current score if it is better than previous save....\n",
    "        if mean_score > nbest_mean:\n",
    "            torch.save(agent.actor_local.state_dict(), 'checkpoint_actor.pth')\n",
    "            torch.save(agent.critic_local.state_dict(), 'checkpoint_critic.pth')\n",
    "            nbest_mean = mean_score\n",
    "        # document the ongoing process....\n",
    "        if i_episode % print_every == 0:\n",
    "            print('\\rEpisode {}\\tAverage Score: {:.2f}'.format(i_episode, mean_score))\n",
    "        if mean_score > REQ_SCORE:\n",
    "            print('\\rRequirement met on Episode {}\\tRequirement Average Score: {:.2f}'.format(i_episode, mean_score))\n",
    "        if mean_score > MAX_SCORE:\n",
    "            print('\\rFinal Episode {}\\tFinal Average Score: {:.2f}'.format(i_episode, mean_score))\n",
    "            break\n",
    "            \n",
    "    return nscores, nmean_scores\n",
    "\n"
   ]
  },
  {
   "cell_type": "code",
   "execution_count": 14,
   "metadata": {},
   "outputs": [],
   "source": [
    "import datetime"
   ]
  },
  {
   "cell_type": "code",
   "execution_count": 15,
   "metadata": {},
   "outputs": [
    {
     "name": "stderr",
     "output_type": "stream",
     "text": [
      "C:\\Users\\Kirk\\anaconda3\\lib\\site-packages\\torch\\nn\\functional.py:1794: UserWarning: nn.functional.tanh is deprecated. Use torch.tanh instead.\n",
      "  warnings.warn(\"nn.functional.tanh is deprecated. Use torch.tanh instead.\")\n"
     ]
    },
    {
     "name": "stdout",
     "output_type": "stream",
     "text": [
      "Episode 10\tAverage Score: 0.81\n",
      "Episode 20\tAverage Score: 2.00\n",
      "Episode 30\tAverage Score: 5.19\n",
      "Episode 40\tAverage Score: 11.62\n",
      "Episode 50\tAverage Score: 16.81\n",
      "Episode 60\tAverage Score: 20.20\n",
      "Episode 70\tAverage Score: 22.59\n",
      "Episode 80\tAverage Score: 24.39\n",
      "Episode 90\tAverage Score: 25.80\n",
      "Episode 100\tAverage Score: 26.93\n",
      "Requirement met on Episode 109\tRequirement Average Score: 30.21\n",
      "Episode 110\tAverage Score: 30.56\n",
      "Requirement met on Episode 110\tRequirement Average Score: 30.56\n",
      "Requirement met on Episode 111\tRequirement Average Score: 30.91\n",
      "Requirement met on Episode 112\tRequirement Average Score: 31.25\n",
      "Requirement met on Episode 113\tRequirement Average Score: 31.59\n",
      "Requirement met on Episode 114\tRequirement Average Score: 31.93\n",
      "Requirement met on Episode 115\tRequirement Average Score: 32.26\n",
      "Requirement met on Episode 116\tRequirement Average Score: 32.58\n",
      "Requirement met on Episode 117\tRequirement Average Score: 32.91\n",
      "Requirement met on Episode 118\tRequirement Average Score: 33.23\n",
      "Final Episode 118\tFinal Average Score: 33.23\n"
     ]
    }
   ],
   "source": [
    "#n_episodes = 200\n",
    "# KAE 3/19/2022, previously 200 was overkill\n",
    "n_episodes = 175\n",
    "print_every = 10\n",
    "tstart = datetime.datetime.now()\n",
    "scores, mean_scores = ddpg_train(env, brain_name, agent, n_agents=num_agents, \n",
    "                                 n_episodes=n_episodes, print_every=print_every)\n",
    "# moved this up here as for some reason our solution stopped so lost the times\n",
    "tend = datetime.datetime.now()\n"
   ]
  },
  {
   "cell_type": "code",
   "execution_count": 16,
   "metadata": {},
   "outputs": [
    {
     "name": "stdout",
     "output_type": "stream",
     "text": [
      "DDPG learning took  0:31:48.206250 or  10.904035714285714  seconds per episode\n"
     ]
    }
   ],
   "source": [
    "dtime = tend - tstart\n",
    "dt_e = float(dtime.total_seconds()) / float(n_episodes)\n",
    "print('DDPG learning took ',dtime,'or ',dt_e,' seconds per episode')"
   ]
  },
  {
   "cell_type": "code",
   "execution_count": 17,
   "metadata": {},
   "outputs": [
    {
     "data": {
      "image/png": "[encoded data removed]",
      "text/plain": [
       "<Figure size 432x288 with 1 Axes>"
      ]
     },
     "metadata": {
      "needs_background": "light"
     },
     "output_type": "display_data"
    }
   ],
   "source": [
    "fig = plt.figure()\n",
    "ax = fig.add_subplot(111)\n",
    "plt.plot(np.arange(1, len(scores)+1), scores,label='scores')\n",
    "plt.plot(np.arange(1, len(mean_scores)+1), mean_scores,'r-',\n",
    "         label='mean scores')\n",
    "plt.grid()\n",
    "plt.ylabel('Score')\n",
    "plt.xlabel('Episode #')\n",
    "plt.show()"
   ]
  },
  {
   "cell_type": "code",
   "execution_count": 18,
   "metadata": {},
   "outputs": [
    {
     "name": "stderr",
     "output_type": "stream",
     "text": [
      "C:\\Users\\Kirk\\anaconda3\\lib\\site-packages\\torch\\nn\\functional.py:1794: UserWarning: nn.functional.tanh is deprecated. Use torch.tanh instead.\n",
      "  warnings.warn(\"nn.functional.tanh is deprecated. Use torch.tanh instead.\")\n"
     ]
    },
    {
     "name": "stdout",
     "output_type": "stream",
     "text": [
      "Turn 1001\tRunning Mean Score: 38.92\n",
      "current test scores: [37.50999916 39.49999912 39.35999912 39.51999912 37.99999915 39.58999912\n",
      " 39.50999912 39.33999912 39.64999911 39.49999912 39.56999912 36.82999918\n",
      " 39.49999912 39.63999911 39.25999912 39.56999912 37.99999915 38.12999915\n",
      " 39.58999912 36.80999918]\n",
      "\n",
      "current mean score: 38.91899913009256\n"
     ]
    }
   ],
   "source": [
    "# KAE 3/19/2022: here we reload the saved trained models (both actor and critic)\n",
    "#   for a \"replay\" to demonstrate that our trained solution gives us \n",
    "#   good solutions (still)\n",
    "agent.actor_local.load_state_dict(torch.load('checkpoint_actor.pth'))\n",
    "agent.critic_local.load_state_dict(torch.load('checkpoint_critic.pth'))\n",
    "\n",
    "# do only one \"episode\"\n",
    "score = np.zeros(num_agents)\n",
    "env_info = env.reset(train_mode=False)[brain_name]     # reset the environment    \n",
    "states = env_info.vector_observations\n",
    "agent.reset()\n",
    "# keep track of the number of turns so can get a running count\n",
    "icnt=0\n",
    "while True:\n",
    "    actions = agent.act(states, add_noise=False)\n",
    "    env_info = env.step(actions)[brain_name]           # send all actions to the environment\n",
    "    next_states = env_info.vector_observations         # get next state (for each agent)\n",
    "    rewards = env_info.rewards                         # get reward (for each agent)\n",
    "    dones = env_info.local_done                        # see if episode finished\n",
    "\n",
    "    states = next_states\n",
    "    score += rewards                                  # update the score (for each agent)\n",
    "    icnt += 1\n",
    "    print('\\rTurn {}\\tRunning Mean Score: {:.2f}'.format(icnt, np.mean(score)), end=\"\")\n",
    "    if np.any(dones):\n",
    "        break \n",
    "print('\\ncurrent test scores:',score)\n",
    "print('\\ncurrent mean score:',np.mean(score))"
   ]
  },
  {
   "cell_type": "code",
   "execution_count": 19,
   "metadata": {},
   "outputs": [],
   "source": [
    "env.close()"
   ]
  },
  {
   "cell_type": "code",
   "execution_count": null,
   "metadata": {},
   "outputs": [],
   "source": []
  }
 ],
 "metadata": {
  "kernelspec": {
   "display_name": "drlnd",
   "language": "python",
   "name": "drlnd"
  },
  "language_info": {
   "codemirror_mode": {
    "name": "ipython",
    "version": 3
   },
   "file_extension": ".py",
   "mimetype": "text/x-python",
   "name": "python",
   "nbconvert_exporter": "python",
   "pygments_lexer": "ipython3",
   "version": "3.6.13"
  }
 },
 "nbformat": 4,
 "nbformat_minor": 2
}
